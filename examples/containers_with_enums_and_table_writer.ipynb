{
 "cells": [
  {
   "cell_type": "markdown",
   "metadata": {},
   "source": [
    "# containers_with_enums_and_table_writer\n"
   ]
  },
  {
   "cell_type": "markdown",
   "metadata": {},
   "source": [
    "## Create some example Containers"
   ]
  },
  {
   "cell_type": "code",
   "execution_count": 1,
   "metadata": {
    "execution": {
     "iopub.execute_input": "2020-12-01T12:30:44.156926Z",
     "iopub.status.busy": "2020-12-01T12:30:44.155984Z",
     "iopub.status.idle": "2020-12-01T12:30:45.471708Z",
     "shell.execute_reply": "2020-12-01T12:30:45.470719Z"
    }
   },
   "outputs": [
    {
     "name": "stderr",
     "output_type": "stream",
     "text": [
      "/usr/local/lib/python3.8/site-packages/setuptools_scm/git.py:68: UserWarning: \"/github/workspace\" is shallow and may cause errors\n",
      "  warnings.warn('\"{}\" is shallow and may cause errors'.format(wd.path))\n"
     ]
    }
   ],
   "source": [
    "import enum\n",
    "from ctapipe.io import HDF5TableWriter\n",
    "from ctapipe.core import Container, Field\n",
    "from astropy import units as u\n",
    "import numpy as np"
   ]
  },
  {
   "cell_type": "code",
   "execution_count": 2,
   "metadata": {
    "execution": {
     "iopub.execute_input": "2020-12-01T12:30:45.476889Z",
     "iopub.status.busy": "2020-12-01T12:30:45.476328Z",
     "iopub.status.idle": "2020-12-01T12:30:45.480078Z",
     "shell.execute_reply": "2020-12-01T12:30:45.479240Z"
    }
   },
   "outputs": [],
   "source": [
    "class WithEnum(Container):\n",
    "    \n",
    "    # this class could also be defined in global namespace \n",
    "    # outside this container, but this looks a bit tidier.\n",
    "    # both variants work however\n",
    "    class EventType(enum.Enum):\n",
    "        pedestal = 1\n",
    "        physics = 2\n",
    "        calibration = 3\n",
    "    \n",
    "    event_type = Field(\n",
    "        EventType.calibration, \n",
    "        f'type of event, one of: {list(EventType.__members__.keys())}'\n",
    "    )"
   ]
  },
  {
   "cell_type": "markdown",
   "metadata": {},
   "source": [
    "let's also make a dummy stream (generator) that will create a series of these containers"
   ]
  },
  {
   "cell_type": "code",
   "execution_count": 3,
   "metadata": {
    "execution": {
     "iopub.execute_input": "2020-12-01T12:30:45.484377Z",
     "iopub.status.busy": "2020-12-01T12:30:45.483857Z",
     "iopub.status.idle": "2020-12-01T12:30:45.487252Z",
     "shell.execute_reply": "2020-12-01T12:30:45.486787Z"
    }
   },
   "outputs": [],
   "source": [
    "def create_stream(n_event):\n",
    "    data = WithEnum()\n",
    "    for i in range(n_event):\n",
    "        data.event_type = WithEnum.EventType(i % 3 + 1)\n",
    "        yield data"
   ]
  },
  {
   "cell_type": "code",
   "execution_count": 4,
   "metadata": {
    "execution": {
     "iopub.execute_input": "2020-12-01T12:30:45.491928Z",
     "iopub.status.busy": "2020-12-01T12:30:45.491327Z",
     "iopub.status.idle": "2020-12-01T12:30:45.495348Z",
     "shell.execute_reply": "2020-12-01T12:30:45.494864Z"
    }
   },
   "outputs": [
    {
     "name": "stdout",
     "output_type": "stream",
     "text": [
      "event_type: EventType.pedestal, type : <enum 'EventType'>\n",
      "event_type: EventType.physics, type : <enum 'EventType'>\n",
      "event_type: EventType.calibration, type : <enum 'EventType'>\n"
     ]
    }
   ],
   "source": [
    "for data in create_stream(3):\n",
    "    for key, val in data.items():\n",
    "        print('{}: {}, type : {}'.format(key, val, type(val)))"
   ]
  },
  {
   "cell_type": "markdown",
   "metadata": {},
   "source": [
    "## Writing the Data"
   ]
  },
  {
   "cell_type": "code",
   "execution_count": 5,
   "metadata": {
    "execution": {
     "iopub.execute_input": "2020-12-01T12:30:45.504951Z",
     "iopub.status.busy": "2020-12-01T12:30:45.503590Z",
     "iopub.status.idle": "2020-12-01T12:30:45.505586Z",
     "shell.execute_reply": "2020-12-01T12:30:45.506045Z"
    }
   },
   "outputs": [],
   "source": [
    "with HDF5TableWriter('container.h5', group_name='data') as h5_table:\n",
    "    for data in create_stream(10):\n",
    "        h5_table.write('table', data)"
   ]
  },
  {
   "cell_type": "code",
   "execution_count": 6,
   "metadata": {
    "execution": {
     "iopub.execute_input": "2020-12-01T12:30:45.510230Z",
     "iopub.status.busy": "2020-12-01T12:30:45.509656Z",
     "iopub.status.idle": "2020-12-01T12:30:46.207035Z",
     "shell.execute_reply": "2020-12-01T12:30:46.206457Z"
    }
   },
   "outputs": [
    {
     "name": "stdout",
     "output_type": "stream",
     "text": [
      "container.h5\r\n"
     ]
    }
   ],
   "source": [
    "!ls container.h5"
   ]
  },
  {
   "cell_type": "markdown",
   "metadata": {},
   "source": [
    "## Reading the Data"
   ]
  },
  {
   "cell_type": "code",
   "execution_count": 7,
   "metadata": {
    "execution": {
     "iopub.execute_input": "2020-12-01T12:30:46.213719Z",
     "iopub.status.busy": "2020-12-01T12:30:46.212274Z",
     "iopub.status.idle": "2020-12-01T12:30:46.486611Z",
     "shell.execute_reply": "2020-12-01T12:30:46.486027Z"
    }
   },
   "outputs": [
    {
     "data": {
      "text/html": [
       "<div>\n",
       "<style scoped>\n",
       "    .dataframe tbody tr th:only-of-type {\n",
       "        vertical-align: middle;\n",
       "    }\n",
       "\n",
       "    .dataframe tbody tr th {\n",
       "        vertical-align: top;\n",
       "    }\n",
       "\n",
       "    .dataframe thead th {\n",
       "        text-align: right;\n",
       "    }\n",
       "</style>\n",
       "<table border=\"1\" class=\"dataframe\">\n",
       "  <thead>\n",
       "    <tr style=\"text-align: right;\">\n",
       "      <th></th>\n",
       "      <th>event_type</th>\n",
       "    </tr>\n",
       "  </thead>\n",
       "  <tbody>\n",
       "    <tr>\n",
       "      <th>0</th>\n",
       "      <td>1</td>\n",
       "    </tr>\n",
       "    <tr>\n",
       "      <th>1</th>\n",
       "      <td>2</td>\n",
       "    </tr>\n",
       "    <tr>\n",
       "      <th>2</th>\n",
       "      <td>3</td>\n",
       "    </tr>\n",
       "    <tr>\n",
       "      <th>3</th>\n",
       "      <td>1</td>\n",
       "    </tr>\n",
       "    <tr>\n",
       "      <th>4</th>\n",
       "      <td>2</td>\n",
       "    </tr>\n",
       "  </tbody>\n",
       "</table>\n",
       "</div>"
      ],
      "text/plain": [
       "   event_type\n",
       "0           1\n",
       "1           2\n",
       "2           3\n",
       "3           1\n",
       "4           2"
      ]
     },
     "execution_count": 1,
     "metadata": {},
     "output_type": "execute_result"
    }
   ],
   "source": [
    "import pandas as pd\n",
    "\n",
    "data = pd.read_hdf('container.h5', key='/data/table')\n",
    "data.head()"
   ]
  },
  {
   "cell_type": "markdown",
   "metadata": {},
   "source": [
    "#### Reading with PyTables"
   ]
  },
  {
   "cell_type": "code",
   "execution_count": 8,
   "metadata": {
    "execution": {
     "iopub.execute_input": "2020-12-01T12:30:46.493449Z",
     "iopub.status.busy": "2020-12-01T12:30:46.492527Z",
     "iopub.status.idle": "2020-12-01T12:30:46.496048Z",
     "shell.execute_reply": "2020-12-01T12:30:46.496486Z"
    }
   },
   "outputs": [
    {
     "data": {
      "text/plain": [
       "/data/table (Table(10,), fletcher32, shuffle, blosc:zstd(5)) 'Storage of WithEnum'\n",
       "  description := {\n",
       "  \"event_type\": Int64Col(shape=(), dflt=0, pos=0)}\n",
       "  byteorder := 'little'\n",
       "  chunkshape := (8192,)"
      ]
     },
     "execution_count": 1,
     "metadata": {},
     "output_type": "execute_result"
    }
   ],
   "source": [
    "import tables\n",
    "h5  = tables.open_file('container.h5')\n",
    "table = h5.root['data']['table']\n",
    "table"
   ]
  },
  {
   "cell_type": "code",
   "execution_count": 9,
   "metadata": {
    "execution": {
     "iopub.execute_input": "2020-12-01T12:30:46.500696Z",
     "iopub.status.busy": "2020-12-01T12:30:46.500148Z",
     "iopub.status.idle": "2020-12-01T12:30:46.505285Z",
     "shell.execute_reply": "2020-12-01T12:30:46.504792Z"
    }
   },
   "outputs": [
    {
     "data": {
      "text/plain": [
       "/data/table._v_attrs (AttributeSet), 9 attributes:\n",
       "   [CLASS := 'TABLE',\n",
       "    CTAPIPE_VERSION := '0.1.dev1+gddc003f',\n",
       "    FIELD_0_FILL := 0,\n",
       "    FIELD_0_NAME := 'event_type',\n",
       "    NROWS := 10,\n",
       "    TITLE := 'Storage of WithEnum',\n",
       "    VERSION := '2.7',\n",
       "    event_type_DESC := \"type of event, one of: ['pedestal', 'physics', 'calibration']\",\n",
       "    event_type_ENUM := <enum 'EventType'>]"
      ]
     },
     "execution_count": 1,
     "metadata": {},
     "output_type": "execute_result"
    }
   ],
   "source": [
    "table.attrs"
   ]
  },
  {
   "cell_type": "code",
   "execution_count": 10,
   "metadata": {
    "execution": {
     "iopub.execute_input": "2020-12-01T12:30:46.511243Z",
     "iopub.status.busy": "2020-12-01T12:30:46.509934Z",
     "iopub.status.idle": "2020-12-01T12:30:46.511914Z",
     "shell.execute_reply": "2020-12-01T12:30:46.512384Z"
    }
   },
   "outputs": [],
   "source": [
    "from ctapipe.io import HDF5TableReader\n",
    "\n",
    "def read(mode):\n",
    "    \n",
    "    print('reading mode {}'.format(mode))\n",
    "\n",
    "    with HDF5TableReader('container.h5', mode=mode) as h5_table:\n",
    "\n",
    "        for group_name in ['data/']:\n",
    "\n",
    "            group_name = '/{}table'.format(group_name)\n",
    "            print(group_name)\n",
    "\n",
    "            for data in h5_table.read(group_name, WithEnum()):\n",
    "\n",
    "                print(data.as_dict())"
   ]
  },
  {
   "cell_type": "code",
   "execution_count": 11,
   "metadata": {
    "execution": {
     "iopub.execute_input": "2020-12-01T12:30:46.519244Z",
     "iopub.status.busy": "2020-12-01T12:30:46.515775Z",
     "iopub.status.idle": "2020-12-01T12:30:46.523875Z",
     "shell.execute_reply": "2020-12-01T12:30:46.523344Z"
    }
   },
   "outputs": [
    {
     "name": "stdout",
     "output_type": "stream",
     "text": [
      "reading mode r\n",
      "/data/table\n",
      "{'event_type': <EventType.pedestal: 1>}\n",
      "{'event_type': <EventType.physics: 2>}\n",
      "{'event_type': <EventType.calibration: 3>}\n",
      "{'event_type': <EventType.pedestal: 1>}\n",
      "{'event_type': <EventType.physics: 2>}\n",
      "{'event_type': <EventType.calibration: 3>}\n",
      "{'event_type': <EventType.pedestal: 1>}\n",
      "{'event_type': <EventType.physics: 2>}\n",
      "{'event_type': <EventType.calibration: 3>}\n",
      "{'event_type': <EventType.pedestal: 1>}\n"
     ]
    }
   ],
   "source": [
    "read('r')"
   ]
  }
 ],
 "metadata": {
  "kernelspec": {
   "display_name": "Python 3",
   "language": "python",
   "name": "python3"
  },
  "language_info": {
   "codemirror_mode": {
    "name": "ipython",
    "version": 3
   },
   "file_extension": ".py",
   "mimetype": "text/x-python",
   "name": "python",
   "nbconvert_exporter": "python",
   "pygments_lexer": "ipython3",
   "version": "3.8.2"
  }
 },
 "nbformat": 4,
 "nbformat_minor": 2
}
