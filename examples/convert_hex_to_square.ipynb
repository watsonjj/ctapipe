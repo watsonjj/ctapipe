{
 "cells": [
  {
   "cell_type": "markdown",
   "metadata": {},
   "source": [
    "# Convert hexagonal cameras into square grid and back"
   ]
  },
  {
   "cell_type": "code",
   "execution_count": 1,
   "metadata": {
    "execution": {
     "iopub.execute_input": "2020-12-01T12:30:48.244526Z",
     "iopub.status.busy": "2020-12-01T12:30:48.244002Z",
     "iopub.status.idle": "2020-12-01T12:30:49.807396Z",
     "shell.execute_reply": "2020-12-01T12:30:49.806418Z"
    }
   },
   "outputs": [
    {
     "name": "stderr",
     "output_type": "stream",
     "text": [
      "/usr/local/lib/python3.8/site-packages/setuptools_scm/git.py:68: UserWarning: \"/github/workspace\" is shallow and may cause errors\n",
      "  warnings.warn('\"{}\" is shallow and may cause errors'.format(wd.path))\n"
     ]
    }
   ],
   "source": [
    "from ctapipe.utils import get_dataset_path\n",
    "from ctapipe.image.geometry_converter import convert_geometry_hex1d_to_rect2d, convert_geometry_rect2d_back_to_hexe1d\n",
    "from ctapipe.visualization import CameraDisplay\n",
    "from ctapipe.io import EventSource\n",
    "import copy\n",
    "import matplotlib.pyplot as plt"
   ]
  },
  {
   "cell_type": "markdown",
   "metadata": {},
   "source": [
    "## Setup"
   ]
  },
  {
   "cell_type": "code",
   "execution_count": 2,
   "metadata": {
    "execution": {
     "iopub.execute_input": "2020-12-01T12:30:49.813006Z",
     "iopub.status.busy": "2020-12-01T12:30:49.811769Z",
     "iopub.status.idle": "2020-12-01T12:30:49.813640Z",
     "shell.execute_reply": "2020-12-01T12:30:49.814092Z"
    }
   },
   "outputs": [],
   "source": [
    "filename = get_dataset_path('gamma_test_large.simtel.gz')"
   ]
  },
  {
   "cell_type": "code",
   "execution_count": 3,
   "metadata": {
    "execution": {
     "iopub.execute_input": "2020-12-01T12:30:49.817892Z",
     "iopub.status.busy": "2020-12-01T12:30:49.817368Z",
     "iopub.status.idle": "2020-12-01T12:30:50.670280Z",
     "shell.execute_reply": "2020-12-01T12:30:50.669429Z"
    }
   },
   "outputs": [],
   "source": [
    "source = EventSource(filename, max_events=10, allowed_tels={1})"
   ]
  },
  {
   "cell_type": "code",
   "execution_count": 4,
   "metadata": {
    "execution": {
     "iopub.execute_input": "2020-12-01T12:30:50.695036Z",
     "iopub.status.busy": "2020-12-01T12:30:50.694418Z",
     "iopub.status.idle": "2020-12-01T12:30:53.205291Z",
     "shell.execute_reply": "2020-12-01T12:30:53.204766Z"
    }
   },
   "outputs": [],
   "source": [
    "events = [copy.deepcopy(event) for event in source]"
   ]
  },
  {
   "cell_type": "code",
   "execution_count": 5,
   "metadata": {
    "execution": {
     "iopub.execute_input": "2020-12-01T12:30:53.209110Z",
     "iopub.status.busy": "2020-12-01T12:30:53.208568Z",
     "iopub.status.idle": "2020-12-01T12:30:53.212173Z",
     "shell.execute_reply": "2020-12-01T12:30:53.211650Z"
    }
   },
   "outputs": [],
   "source": [
    "event = events[0]"
   ]
  },
  {
   "cell_type": "code",
   "execution_count": 6,
   "metadata": {
    "execution": {
     "iopub.execute_input": "2020-12-01T12:30:53.455394Z",
     "iopub.status.busy": "2020-12-01T12:30:53.387815Z",
     "iopub.status.idle": "2020-12-01T12:30:53.619836Z",
     "shell.execute_reply": "2020-12-01T12:30:53.620633Z"
    }
   },
   "outputs": [
    {
     "data": {
      "text/plain": [
       "<ctapipe.visualization.mpl_camera.CameraDisplay at 0x7f9c884f8430>"
      ]
     },
     "execution_count": 1,
     "metadata": {},
     "output_type": "execute_result"
    }
   ],
   "source": [
    "geometry = source.subarray.tel[1].camera.geometry\n",
    "image = event.r0.tel[1].waveform[0].sum(axis=1)\n",
    "CameraDisplay(geometry, image)"
   ]
  },
  {
   "cell_type": "markdown",
   "metadata": {},
   "source": [
    "## Conversion into square geometry"
   ]
  },
  {
   "cell_type": "markdown",
   "metadata": {},
   "source": [
    "**A key must be speficied to be able to convert back to hexagonal afterwards**   \n",
    "The conversion geometry is stored in `ctapipe.image.geometry_convert.rot_buffer`"
   ]
  },
  {
   "cell_type": "code",
   "execution_count": 7,
   "metadata": {
    "execution": {
     "iopub.execute_input": "2020-12-01T12:30:53.625813Z",
     "iopub.status.busy": "2020-12-01T12:30:53.624967Z",
     "iopub.status.idle": "2020-12-01T12:30:54.133770Z",
     "shell.execute_reply": "2020-12-01T12:30:54.133253Z"
    }
   },
   "outputs": [],
   "source": [
    "key = 0\n",
    "square_geom, square_image = convert_geometry_hex1d_to_rect2d(geometry, image, key=key)"
   ]
  },
  {
   "cell_type": "code",
   "execution_count": 8,
   "metadata": {
    "execution": {
     "iopub.execute_input": "2020-12-01T12:30:54.138236Z",
     "iopub.status.busy": "2020-12-01T12:30:54.137685Z",
     "iopub.status.idle": "2020-12-01T12:30:54.143105Z",
     "shell.execute_reply": "2020-12-01T12:30:54.142642Z"
    }
   },
   "outputs": [
    {
     "data": {
      "text/plain": [
       "<matplotlib.image.AxesImage at 0x7f9c4bcd0160>"
      ]
     },
     "execution_count": 1,
     "metadata": {},
     "output_type": "execute_result"
    }
   ],
   "source": [
    "plt.imshow(square_image)"
   ]
  },
  {
   "cell_type": "markdown",
   "metadata": {},
   "source": [
    "## Conversion back to hexagonal geometry"
   ]
  },
  {
   "cell_type": "code",
   "execution_count": 9,
   "metadata": {
    "execution": {
     "iopub.execute_input": "2020-12-01T12:30:54.147621Z",
     "iopub.status.busy": "2020-12-01T12:30:54.146661Z",
     "iopub.status.idle": "2020-12-01T12:30:54.148647Z",
     "shell.execute_reply": "2020-12-01T12:30:54.149072Z"
    }
   },
   "outputs": [],
   "source": [
    "hex_geom, hex_image = convert_geometry_rect2d_back_to_hexe1d(square_geom, square_image, key=key)"
   ]
  },
  {
   "cell_type": "code",
   "execution_count": 10,
   "metadata": {
    "execution": {
     "iopub.execute_input": "2020-12-01T12:30:54.471119Z",
     "iopub.status.busy": "2020-12-01T12:30:54.403011Z",
     "iopub.status.idle": "2020-12-01T12:30:54.642532Z",
     "shell.execute_reply": "2020-12-01T12:30:54.643262Z"
    }
   },
   "outputs": [
    {
     "data": {
      "text/plain": [
       "<ctapipe.visualization.mpl_camera.CameraDisplay at 0x7f9c4bcd0c40>"
      ]
     },
     "execution_count": 1,
     "metadata": {},
     "output_type": "execute_result"
    }
   ],
   "source": [
    "CameraDisplay(hex_geom, hex_image)"
   ]
  },
  {
   "cell_type": "markdown",
   "metadata": {},
   "source": [
    "Let's check that the images are exactly the same:"
   ]
  },
  {
   "cell_type": "code",
   "execution_count": 11,
   "metadata": {
    "execution": {
     "iopub.execute_input": "2020-12-01T12:30:54.647809Z",
     "iopub.status.busy": "2020-12-01T12:30:54.647229Z",
     "iopub.status.idle": "2020-12-01T12:30:54.650170Z",
     "shell.execute_reply": "2020-12-01T12:30:54.650893Z"
    }
   },
   "outputs": [],
   "source": [
    "assert (hex_image == image).all()"
   ]
  },
  {
   "cell_type": "code",
   "execution_count": 12,
   "metadata": {
    "execution": {
     "iopub.execute_input": "2020-12-01T12:30:54.655297Z",
     "iopub.status.busy": "2020-12-01T12:30:54.654428Z",
     "iopub.status.idle": "2020-12-01T12:30:54.658137Z",
     "shell.execute_reply": "2020-12-01T12:30:54.658931Z"
    }
   },
   "outputs": [],
   "source": [
    "assert hex_geom == geometry"
   ]
  }
 ],
 "metadata": {
  "kernelspec": {
   "display_name": "Python 3",
   "language": "python",
   "name": "python3"
  },
  "language_info": {
   "codemirror_mode": {
    "name": "ipython",
    "version": 3
   },
   "file_extension": ".py",
   "mimetype": "text/x-python",
   "name": "python",
   "nbconvert_exporter": "python",
   "pygments_lexer": "ipython3",
   "version": "3.8.2"
  }
 },
 "nbformat": 4,
 "nbformat_minor": 2
}
