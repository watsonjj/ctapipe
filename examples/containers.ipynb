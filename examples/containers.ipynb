{
 "cells": [
  {
   "cell_type": "markdown",
   "metadata": {},
   "source": [
    "# Using Container classes\n",
    "\n",
    "`ctapipe.core.Container` is the base class for all event-wise data classes in ctapipe. It works like a object-relational mapper, in that it defines a set of `Fields` along with their metadata (description, unit, default), which can be later translated automatially into an output table using a `ctapipe.io.TableWriter`."
   ]
  },
  {
   "cell_type": "code",
   "execution_count": 1,
   "metadata": {
    "execution": {
     "iopub.execute_input": "2020-12-01T12:30:41.472850Z",
     "iopub.status.busy": "2020-12-01T12:30:41.472289Z",
     "iopub.status.idle": "2020-12-01T12:30:41.923458Z",
     "shell.execute_reply": "2020-12-01T12:30:41.922365Z"
    }
   },
   "outputs": [
    {
     "name": "stderr",
     "output_type": "stream",
     "text": [
      "/usr/local/lib/python3.8/site-packages/setuptools_scm/git.py:68: UserWarning: \"/github/workspace\" is shallow and may cause errors\n",
      "  warnings.warn('\"{}\" is shallow and may cause errors'.format(wd.path))\n"
     ]
    }
   ],
   "source": [
    "from ctapipe.core import Container, Field, Map\n",
    "import numpy as np\n",
    "from astropy import units as u"
   ]
  },
  {
   "cell_type": "markdown",
   "metadata": {},
   "source": [
    "Let's define a few example containers with some dummy fields in them:"
   ]
  },
  {
   "cell_type": "code",
   "execution_count": 2,
   "metadata": {
    "execution": {
     "iopub.execute_input": "2020-12-01T12:30:41.928980Z",
     "iopub.status.busy": "2020-12-01T12:30:41.928404Z",
     "iopub.status.idle": "2020-12-01T12:30:41.932000Z",
     "shell.execute_reply": "2020-12-01T12:30:41.931527Z"
    }
   },
   "outputs": [],
   "source": [
    "class SubContainer(Container):\n",
    "    junk = Field(\"nothing\",\"Some junk\")\n",
    "    value = Field(0.0, \"some value\", unit=u.deg)\n",
    "\n",
    "class EventContainer(Container):\n",
    "    event_id = Field(-1,\"event id number\")\n",
    "    tels_with_data = Field([], \"list of telescopes with data\")\n",
    "    sub = Field(SubContainer(), \"stuff\")  # a sub-container in the hierarchy\n",
    "\n",
    "    # for dicts of sub-containers, use Map instead \n",
    "    # of a dict() as the default value to support serialization\n",
    "    tel = Field(Map(), \"telescopes\")  \n"
   ]
  },
  {
   "cell_type": "markdown",
   "metadata": {},
   "source": [
    "## Basic features"
   ]
  },
  {
   "cell_type": "code",
   "execution_count": 3,
   "metadata": {
    "execution": {
     "iopub.execute_input": "2020-12-01T12:30:41.936491Z",
     "iopub.status.busy": "2020-12-01T12:30:41.935928Z",
     "iopub.status.idle": "2020-12-01T12:30:41.939426Z",
     "shell.execute_reply": "2020-12-01T12:30:41.938946Z"
    }
   },
   "outputs": [],
   "source": [
    "ev = EventContainer()"
   ]
  },
  {
   "cell_type": "markdown",
   "metadata": {},
   "source": [
    "Check that default values are automatically filled in"
   ]
  },
  {
   "cell_type": "code",
   "execution_count": 4,
   "metadata": {
    "execution": {
     "iopub.execute_input": "2020-12-01T12:30:41.943656Z",
     "iopub.status.busy": "2020-12-01T12:30:41.943097Z",
     "iopub.status.idle": "2020-12-01T12:30:41.947095Z",
     "shell.execute_reply": "2020-12-01T12:30:41.946600Z"
    }
   },
   "outputs": [
    {
     "name": "stdout",
     "output_type": "stream",
     "text": [
      "-1\n",
      "dict_keys([])\n",
      "Map(None, {})\n"
     ]
    }
   ],
   "source": [
    "print(ev.event_id)\n",
    "print(ev.tel.keys())\n",
    "print(ev.tel)"
   ]
  },
  {
   "cell_type": "markdown",
   "metadata": {},
   "source": [
    "print the json representation"
   ]
  },
  {
   "cell_type": "code",
   "execution_count": 5,
   "metadata": {
    "execution": {
     "iopub.execute_input": "2020-12-01T12:30:41.952270Z",
     "iopub.status.busy": "2020-12-01T12:30:41.950850Z",
     "iopub.status.idle": "2020-12-01T12:30:41.954206Z",
     "shell.execute_reply": "2020-12-01T12:30:41.953652Z"
    }
   },
   "outputs": [
    {
     "name": "stdout",
     "output_type": "stream",
     "text": [
      "{'event_id': -1,\n",
      " 'sub': {'junk': 'nothing', 'value': 0.0},\n",
      " 'tel': {},\n",
      " 'tels_with_data': []}\n"
     ]
    }
   ],
   "source": [
    "print(ev)"
   ]
  },
  {
   "cell_type": "markdown",
   "metadata": {},
   "source": [
    "values can be set as normal for a class:"
   ]
  },
  {
   "cell_type": "code",
   "execution_count": 6,
   "metadata": {
    "execution": {
     "iopub.execute_input": "2020-12-01T12:30:41.964996Z",
     "iopub.status.busy": "2020-12-01T12:30:41.963826Z",
     "iopub.status.idle": "2020-12-01T12:30:41.967367Z",
     "shell.execute_reply": "2020-12-01T12:30:41.966887Z"
    }
   },
   "outputs": [
    {
     "data": {
      "text/plain": [
       "100"
      ]
     },
     "execution_count": 1,
     "metadata": {},
     "output_type": "execute_result"
    }
   ],
   "source": [
    "ev.event_id = 100\n",
    "ev.event_id"
   ]
  },
  {
   "cell_type": "code",
   "execution_count": 7,
   "metadata": {
    "execution": {
     "iopub.execute_input": "2020-12-01T12:30:41.973406Z",
     "iopub.status.busy": "2020-12-01T12:30:41.971567Z",
     "iopub.status.idle": "2020-12-01T12:30:41.975251Z",
     "shell.execute_reply": "2020-12-01T12:30:41.974772Z"
    }
   },
   "outputs": [
    {
     "data": {
      "text/plain": [
       "{'event_id': 100,\n",
       " 'tels_with_data': [],\n",
       " 'sub': __main__.SubContainer:\n",
       "                           junk: Some junk\n",
       "                          value: some value [deg],\n",
       " 'tel': Map(None, {})}"
      ]
     },
     "execution_count": 1,
     "metadata": {},
     "output_type": "execute_result"
    }
   ],
   "source": [
    "ev.as_dict()  # by default only shows the bare items, not sub-containers (See later)"
   ]
  },
  {
   "cell_type": "code",
   "execution_count": 8,
   "metadata": {
    "execution": {
     "iopub.execute_input": "2020-12-01T12:30:41.980181Z",
     "iopub.status.busy": "2020-12-01T12:30:41.979209Z",
     "iopub.status.idle": "2020-12-01T12:30:41.982097Z",
     "shell.execute_reply": "2020-12-01T12:30:41.982561Z"
    }
   },
   "outputs": [
    {
     "data": {
      "text/plain": [
       "{'event_id': 100,\n",
       " 'tels_with_data': [],\n",
       " 'sub': {'junk': 'nothing', 'value': 0.0},\n",
       " 'tel': {}}"
      ]
     },
     "execution_count": 1,
     "metadata": {},
     "output_type": "execute_result"
    }
   ],
   "source": [
    "ev.as_dict(recursive=True)"
   ]
  },
  {
   "cell_type": "markdown",
   "metadata": {},
   "source": [
    "Now, let's define a sub-container that we can add per telescope:"
   ]
  },
  {
   "cell_type": "code",
   "execution_count": 9,
   "metadata": {
    "execution": {
     "iopub.execute_input": "2020-12-01T12:30:41.986987Z",
     "iopub.status.busy": "2020-12-01T12:30:41.985865Z",
     "iopub.status.idle": "2020-12-01T12:30:41.987627Z",
     "shell.execute_reply": "2020-12-01T12:30:41.988108Z"
    }
   },
   "outputs": [],
   "source": [
    "class TelContainer(Container):\n",
    "    tel_id = Field(-1, \"telescope ID number\")\n",
    "    image = Field(np.zeros(10), \"camera pixel data\")\n",
    "\n"
   ]
  },
  {
   "cell_type": "markdown",
   "metadata": {},
   "source": [
    "and we can add a few of these to the parent container inside the tel dict:"
   ]
  },
  {
   "cell_type": "code",
   "execution_count": 10,
   "metadata": {
    "execution": {
     "iopub.execute_input": "2020-12-01T12:30:41.992746Z",
     "iopub.status.busy": "2020-12-01T12:30:41.991524Z",
     "iopub.status.idle": "2020-12-01T12:30:41.993374Z",
     "shell.execute_reply": "2020-12-01T12:30:41.993824Z"
    }
   },
   "outputs": [],
   "source": [
    "ev.tel[10] = TelContainer()\n",
    "ev.tel[5] = TelContainer()\n",
    "ev.tel[42] = TelContainer()"
   ]
  },
  {
   "cell_type": "code",
   "execution_count": 11,
   "metadata": {
    "execution": {
     "iopub.execute_input": "2020-12-01T12:30:42.000447Z",
     "iopub.status.busy": "2020-12-01T12:30:41.999185Z",
     "iopub.status.idle": "2020-12-01T12:30:42.002430Z",
     "shell.execute_reply": "2020-12-01T12:30:42.001936Z"
    }
   },
   "outputs": [
    {
     "data": {
      "text/plain": [
       "Map(None,\n",
       "    {10: __main__.TelContainer:\n",
       "                             tel_id: telescope ID number\n",
       "                              image: camera pixel data,\n",
       "     5: __main__.TelContainer:\n",
       "                             tel_id: telescope ID number\n",
       "                              image: camera pixel data,\n",
       "     42: __main__.TelContainer:\n",
       "                             tel_id: telescope ID number\n",
       "                              image: camera pixel data})"
      ]
     },
     "execution_count": 1,
     "metadata": {},
     "output_type": "execute_result"
    }
   ],
   "source": [
    "ev.tel"
   ]
  },
  {
   "cell_type": "markdown",
   "metadata": {},
   "source": [
    "## Converion to dictionaries"
   ]
  },
  {
   "cell_type": "code",
   "execution_count": 12,
   "metadata": {
    "execution": {
     "iopub.execute_input": "2020-12-01T12:30:42.007652Z",
     "iopub.status.busy": "2020-12-01T12:30:42.006726Z",
     "iopub.status.idle": "2020-12-01T12:30:42.009326Z",
     "shell.execute_reply": "2020-12-01T12:30:42.009781Z"
    }
   },
   "outputs": [
    {
     "data": {
      "text/plain": [
       "{'event_id': 100,\n",
       " 'tels_with_data': [],\n",
       " 'sub': __main__.SubContainer:\n",
       "                           junk: Some junk\n",
       "                          value: some value [deg],\n",
       " 'tel': Map(None,\n",
       "     {10: __main__.TelContainer:\n",
       "                              tel_id: telescope ID number\n",
       "                               image: camera pixel data,\n",
       "      5: __main__.TelContainer:\n",
       "                              tel_id: telescope ID number\n",
       "                               image: camera pixel data,\n",
       "      42: __main__.TelContainer:\n",
       "                              tel_id: telescope ID number\n",
       "                               image: camera pixel data})}"
      ]
     },
     "execution_count": 1,
     "metadata": {},
     "output_type": "execute_result"
    }
   ],
   "source": [
    "ev.as_dict()"
   ]
  },
  {
   "cell_type": "code",
   "execution_count": 13,
   "metadata": {
    "execution": {
     "iopub.execute_input": "2020-12-01T12:30:42.015744Z",
     "iopub.status.busy": "2020-12-01T12:30:42.014619Z",
     "iopub.status.idle": "2020-12-01T12:30:42.017845Z",
     "shell.execute_reply": "2020-12-01T12:30:42.017363Z"
    }
   },
   "outputs": [
    {
     "data": {
      "text/plain": [
       "{'event_id': 100,\n",
       " 'tels_with_data': [],\n",
       " 'sub': {'junk': 'nothing', 'value': 0.0},\n",
       " 'tel': {10: {'tel_id': -1,\n",
       "   'image': array([0., 0., 0., 0., 0., 0., 0., 0., 0., 0.])},\n",
       "  5: {'tel_id': -1, 'image': array([0., 0., 0., 0., 0., 0., 0., 0., 0., 0.])},\n",
       "  42: {'tel_id': -1,\n",
       "   'image': array([0., 0., 0., 0., 0., 0., 0., 0., 0., 0.])}}}"
      ]
     },
     "execution_count": 1,
     "metadata": {},
     "output_type": "execute_result"
    }
   ],
   "source": [
    "ev.as_dict(recursive=True, flatten=False)"
   ]
  },
  {
   "cell_type": "markdown",
   "metadata": {},
   "source": [
    "for serialization to a table, we can even flatten the output into a single set of columns"
   ]
  },
  {
   "cell_type": "code",
   "execution_count": 14,
   "metadata": {
    "execution": {
     "iopub.execute_input": "2020-12-01T12:30:42.023356Z",
     "iopub.status.busy": "2020-12-01T12:30:42.022592Z",
     "iopub.status.idle": "2020-12-01T12:30:42.025199Z",
     "shell.execute_reply": "2020-12-01T12:30:42.025651Z"
    }
   },
   "outputs": [
    {
     "data": {
      "text/plain": [
       "{'event_id': 100,\n",
       " 'tels_with_data': [],\n",
       " 'sub_junk': 'nothing',\n",
       " 'sub_value': 0.0,\n",
       " 'tel_10': {'tel_id': -1,\n",
       "  'image': array([0., 0., 0., 0., 0., 0., 0., 0., 0., 0.])},\n",
       " 'tel_5': {'tel_id': -1,\n",
       "  'image': array([0., 0., 0., 0., 0., 0., 0., 0., 0., 0.])},\n",
       " 'tel_42': {'tel_id': -1,\n",
       "  'image': array([0., 0., 0., 0., 0., 0., 0., 0., 0., 0.])}}"
      ]
     },
     "execution_count": 1,
     "metadata": {},
     "output_type": "execute_result"
    }
   ],
   "source": [
    "ev.as_dict(recursive=True, flatten=True)"
   ]
  },
  {
   "cell_type": "markdown",
   "metadata": {},
   "source": [
    "## Setting and clearing values"
   ]
  },
  {
   "cell_type": "code",
   "execution_count": 15,
   "metadata": {
    "execution": {
     "iopub.execute_input": "2020-12-01T12:30:42.032676Z",
     "iopub.status.busy": "2020-12-01T12:30:42.031431Z",
     "iopub.status.idle": "2020-12-01T12:30:42.034436Z",
     "shell.execute_reply": "2020-12-01T12:30:42.033984Z"
    }
   },
   "outputs": [
    {
     "name": "stdout",
     "output_type": "stream",
     "text": [
      "{'event_id': 100,\n",
      " 'sub': {'junk': 'nothing', 'value': 0.0},\n",
      " 'tel': {5: {'image': array([9., 9., 9., 9., 9., 9., 9., 9., 9., 9.]),\n",
      "             'tel_id': -1},\n",
      "         10: {'image': array([0., 0., 0., 0., 0., 0., 0., 0., 0., 0.]),\n",
      "              'tel_id': -1},\n",
      "         42: {'image': array([0., 0., 0., 0., 0., 0., 0., 0., 0., 0.]),\n",
      "              'tel_id': -1}},\n",
      " 'tels_with_data': []}\n"
     ]
    }
   ],
   "source": [
    "ev.tel[5].image[:] = 9\n",
    "print(ev)"
   ]
  },
  {
   "cell_type": "code",
   "execution_count": 16,
   "metadata": {
    "execution": {
     "iopub.execute_input": "2020-12-01T12:30:42.039354Z",
     "iopub.status.busy": "2020-12-01T12:30:42.038373Z",
     "iopub.status.idle": "2020-12-01T12:30:42.041017Z",
     "shell.execute_reply": "2020-12-01T12:30:42.041467Z"
    }
   },
   "outputs": [
    {
     "data": {
      "text/plain": [
       "{'event_id': -1, 'tels_with_data': [], 'sub_junk': 'nothing', 'sub_value': 0.0}"
      ]
     },
     "execution_count": 1,
     "metadata": {},
     "output_type": "execute_result"
    }
   ],
   "source": [
    "ev.reset()\n",
    "ev.as_dict(recursive=True, flatten=True)"
   ]
  },
  {
   "cell_type": "markdown",
   "metadata": {},
   "source": [
    "## look at a pre-defined Container"
   ]
  },
  {
   "cell_type": "code",
   "execution_count": 17,
   "metadata": {
    "execution": {
     "iopub.execute_input": "2020-12-01T12:30:42.046494Z",
     "iopub.status.busy": "2020-12-01T12:30:42.045910Z",
     "iopub.status.idle": "2020-12-01T12:30:42.217773Z",
     "shell.execute_reply": "2020-12-01T12:30:42.216861Z"
    }
   },
   "outputs": [],
   "source": [
    "from ctapipe.containers import SimulatedShowerContainer"
   ]
  },
  {
   "cell_type": "code",
   "execution_count": 18,
   "metadata": {
    "execution": {
     "iopub.execute_input": "2020-12-01T12:30:42.222502Z",
     "iopub.status.busy": "2020-12-01T12:30:42.221377Z",
     "iopub.status.idle": "2020-12-01T12:30:42.223091Z",
     "shell.execute_reply": "2020-12-01T12:30:42.223513Z"
    }
   },
   "outputs": [],
   "source": [
    "shower = SimulatedShowerContainer()"
   ]
  },
  {
   "cell_type": "code",
   "execution_count": 19,
   "metadata": {
    "execution": {
     "iopub.execute_input": "2020-12-01T12:30:42.228436Z",
     "iopub.status.busy": "2020-12-01T12:30:42.227606Z",
     "iopub.status.idle": "2020-12-01T12:30:42.230375Z",
     "shell.execute_reply": "2020-12-01T12:30:42.230765Z"
    },
    "scrolled": true
   },
   "outputs": [
    {
     "data": {
      "text/plain": [
       "ctapipe.containers.SimulatedShowerContainer:\n",
       "                        energy: Simulated Energy [TeV]\n",
       "                           alt: Simulated altitude [deg]\n",
       "                            az: Simulated azimuth [deg]\n",
       "                        core_x: Simulated core position (x) [m]\n",
       "                        core_y: Simulated core position (y) [m]\n",
       "                   h_first_int: Height of first interaction [m]\n",
       "                         x_max: Simulated Xmax value [g / cm2]\n",
       "             shower_primary_id: Simulated shower primary ID 0 (gamma),\n",
       "                                1(e-),2(mu-), 100*A+Z for nucleons and\n",
       "                                nuclei,negative for antimatter."
      ]
     },
     "execution_count": 1,
     "metadata": {},
     "output_type": "execute_result"
    }
   ],
   "source": [
    "shower"
   ]
  }
 ],
 "metadata": {
  "anaconda-cloud": {},
  "kernelspec": {
   "display_name": "Python 3",
   "language": "python",
   "name": "python3"
  },
  "language_info": {
   "codemirror_mode": {
    "name": "ipython",
    "version": 3
   },
   "file_extension": ".py",
   "mimetype": "text/x-python",
   "name": "python",
   "nbconvert_exporter": "python",
   "pygments_lexer": "ipython3",
   "version": "3.8.2"
  }
 },
 "nbformat": 4,
 "nbformat_minor": 4
}
